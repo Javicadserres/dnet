{
 "cells": [
  {
   "cell_type": "markdown",
   "metadata": {},
   "source": [
    "### Convolution example\n",
    "\n",
    "Usage example for a multiclass classification image using convolutional neural networks."
   ]
  },
  {
   "cell_type": "code",
   "execution_count": 2,
   "metadata": {},
   "outputs": [],
   "source": [
    "import numpy as np\n",
    "import pandas as pd\n",
    "import matplotlib.pyplot as plt\n",
    "\n",
    "from sklearn.datasets import load_digits\n",
    "from sklearn.model_selection import train_test_split\n",
    "from dnetworks.model import NNet\n",
    "from dnetworks.layers import (\n",
    "    LinearLayer, \n",
    "    ReLU, \n",
    "    CrossEntropyLoss, \n",
    "    Conv2D,\n",
    "    MaxPooling2D, \n",
    "    AveragePooling2D,\n",
    "    Flatten\n",
    ")\n",
    "from dnetworks.optimizers import Adam"
   ]
  },
  {
   "cell_type": "markdown",
   "metadata": {},
   "source": [
    "### Our Dataset\n",
    "We will be using the digits dataset."
   ]
  },
  {
   "cell_type": "code",
   "execution_count": 4,
   "metadata": {},
   "outputs": [],
   "source": [
    "digits = load_digits()"
   ]
  },
  {
   "cell_type": "code",
   "execution_count": 5,
   "metadata": {},
   "outputs": [
    {
     "data": {
      "image/png": "[encoded data removed]",
      "text/plain": [
       "<Figure size 720x216 with 4 Axes>"
      ]
     },
     "metadata": {
      "needs_background": "light"
     },
     "output_type": "display_data"
    }
   ],
   "source": [
    "_, axes = plt.subplots(nrows=1, ncols=4, figsize=(10, 3))\n",
    "for ax, image, label in zip(axes, digits.images, digits.target):\n",
    "    ax.set_axis_off()\n",
    "    ax.imshow(image, cmap=plt.cm.gray_r, interpolation='nearest')\n",
    "    ax.set_title('Training: %i' % label)"
   ]
  },
  {
   "cell_type": "code",
   "execution_count": 6,
   "metadata": {},
   "outputs": [],
   "source": [
    "images = digits.images\n",
    "m, h, w = images.shape\n",
    "images = images.reshape(m, 1, h, w)\n",
    "\n",
    "target = digits.target\n",
    "\n",
    "def one_hot_encoding(Y):\n",
    "    \"\"\"\n",
    "    One hot enconding method.\n",
    "    \"\"\"\n",
    "    one_hot = np.zeros((Y.size, Y.max() + 1))\n",
    "    one_hot[np.arange(Y.size), Y] = 1\n",
    "\n",
    "    return one_hot\n",
    "\n",
    "x_train, x_test, y_train, y_test = train_test_split(\n",
    "    images, target, test_size=0.4, random_state=1\n",
    ")\n",
    "y_train = one_hot_encoding(y_train)"
   ]
  },
  {
   "cell_type": "markdown",
   "metadata": {},
   "source": [
    "### Model\n",
    "Let's create the convolutional model."
   ]
  },
  {
   "cell_type": "code",
   "execution_count": 7,
   "metadata": {},
   "outputs": [],
   "source": [
    "# Initialize the model\n",
    "model = NNet()\n",
    "\n",
    "# Create the model structure\n",
    "model.add(Conv2D(1, 2, kernel_size=(2, 2), stride=2, padding=1))\n",
    "model.add(AveragePooling2D(kernel_size=(2, 2), stride=1, padding=1))\n",
    "model.add(ReLU())\n",
    "\n",
    "model.add(Conv2D(2, 1, kernel_size=(2, 2), stride=1, padding=0))\n",
    "model.add(AveragePooling2D(kernel_size=(2, 2), stride=1, padding=0))\n",
    "model.add(ReLU())\n",
    "\n",
    "model.add(Flatten())\n",
    "model.add(LinearLayer(16, 10))\n",
    "\n",
    "# set the loss functions and the optimize method\n",
    "loss = CrossEntropyLoss()\n",
    "optim = Adam(lr=0.05)"
   ]
  },
  {
   "cell_type": "markdown",
   "metadata": {},
   "source": [
    "### Train and Evaluate\n",
    "\n",
    "Train and evaluate the model."
   ]
  },
  {
   "cell_type": "code",
   "execution_count": 9,
   "metadata": {},
   "outputs": [
    {
     "name": "stdout",
     "output_type": "stream",
     "text": [
      "Cost after iteration 0.000000e+00poch: 2.380699\n",
      "Cost after iteration 5.000000e+02poch: 0.251575\n",
      "Cost after iteration 1.000000e+03poch: 0.192159\n",
      "Cost after iteration 1.500000e+03poch: 0.177141\n",
      "Cost after iteration 2.000000e+03poch: 0.170185\n",
      "Cost after iteration 2.500000e+03poch: 0.137943\n",
      "Cost after iteration 3.000000e+03poch: 0.121868\n",
      "Cost after iteration 3.500000e+03poch: 0.118095\n",
      "Cost after iteration 4.000000e+03poch: 0.100716\n",
      "Cost after iteration 4.500000e+03poch: 0.091016\n",
      "Cost after iteration 5.000000e+03poch: 0.086866\n",
      "Cost after iteration 5.500000e+03poch: 0.085954\n",
      "Cost after iteration 6.000000e+03poch: 0.080688\n",
      "Cost after iteration 6.500000e+03poch: 0.077968\n",
      "Cost after iteration 7.000000e+03poch: 0.073803\n",
      "Cost after iteration 7.500000e+03poch: 0.078520\n",
      "Cost after iteration 8.000000e+03poch: 0.077568\n",
      "Cost after iteration 8.500000e+03poch: 0.076739\n",
      "Cost after iteration 9.000000e+03poch: 0.071837\n",
      "Cost after iteration 9.500000e+03poch: 0.071805\n"
     ]
    }
   ],
   "source": [
    "# Train the model\n",
    "costs = []\n",
    "epochs = 10000\n",
    "\n",
    "for epoch in range(epochs):\n",
    "    model.forward(x_train.T)\n",
    "    cost = model.loss(y_train.T, loss)\n",
    "    model.backward()\n",
    "    model.optimize(optim)\n",
    "\n",
    "    if epoch % 500 == 0:\n",
    "        print (\"Cost after iteration %epoch: %f\" %(epoch, cost))\n",
    "        costs.append(cost)"
   ]
  },
  {
   "cell_type": "code",
   "execution_count": 47,
   "metadata": {},
   "outputs": [
    {
     "data": {
      "image/png": "[encoded data removed]",
      "text/plain": [
       "<Figure size 504x216 with 1 Axes>"
      ]
     },
     "metadata": {
      "needs_background": "light"
     },
     "output_type": "display_data"
    }
   ],
   "source": [
    "# plot the loss evolution\n",
    "costs_ss = pd.Series(costs[1:])\n",
    "\n",
    "plt.figure(figsize=(7, 3))\n",
    "plt.plot(costs_ss)\n",
    "plt.ylabel('cost')\n",
    "plt.xlabel('iterations (per hundreds)')\n",
    "plt.title('Loss per epoch')\n",
    "plt.show()"
   ]
  },
  {
   "cell_type": "code",
   "execution_count": 44,
   "metadata": {},
   "outputs": [
    {
     "data": {
      "image/png": "[encoded data removed]",
      "text/plain": [
       "<Figure size 720x216 with 4 Axes>"
      ]
     },
     "metadata": {
      "needs_background": "light"
     },
     "output_type": "display_data"
    }
   ],
   "source": [
    "_, axes = plt.subplots(nrows=1, ncols=4, figsize=(10, 3))\n",
    "\n",
    "predictions = model.forward(x_test.T)\n",
    "predictions = predictions.argmax(axis=0)\n",
    "\n",
    "\n",
    "for ax, image, label, pred in zip(axes, x_test.reshape((719, 8, 8)), y_test, predictions):\n",
    "    ax.set_axis_off()\n",
    "    ax.imshow(image, cmap=plt.cm.gray_r, interpolation='nearest')\n",
    "    ax.set_title('Test: ' +str(label) + ' predicted: ' + str(pred))"
   ]
  }
 ],
 "metadata": {
  "kernelspec": {
   "display_name": "mynet",
   "language": "python",
   "name": "mynet"
  },
  "language_info": {
   "codemirror_mode": {
    "name": "ipython",
    "version": 3
   },
   "file_extension": ".py",
   "mimetype": "text/x-python",
   "name": "python",
   "nbconvert_exporter": "python",
   "pygments_lexer": "ipython3",
   "version": "3.8.5"
  }
 },
 "nbformat": 4,
 "nbformat_minor": 5
}
