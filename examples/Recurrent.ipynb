{
 "cells": [
  {
   "cell_type": "markdown",
   "metadata": {},
   "source": [
    "### RNN example\n",
    "\n",
    "In this notebook we will see an example of the RNN built in RNN.py. In this example we will be using the data person_names.txt to create new names."
   ]
  },
  {
   "cell_type": "code",
   "execution_count": 1,
   "metadata": {},
   "outputs": [],
   "source": [
    "import numpy as np\n",
    "import matplotlib.pyplot as plt\n",
    "\n",
    "from pathlib import Path\n",
    "from dnetworks.layers import NLLLoss, RNN\n",
    "from dnetworks.optimizers import Adam\n",
    "from dnetworks.model import NNet"
   ]
  },
  {
   "cell_type": "code",
   "execution_count": 2,
   "metadata": {},
   "outputs": [],
   "source": [
    "PATH = Path.cwd()\n",
    "PATH_DATA = PATH / 'data'"
   ]
  },
  {
   "cell_type": "markdown",
   "metadata": {},
   "source": [
    "Lets set the random.seed in order to generate always the same weights."
   ]
  },
  {
   "cell_type": "code",
   "execution_count": 3,
   "metadata": {},
   "outputs": [],
   "source": [
    "np.random.seed(1)"
   ]
  },
  {
   "cell_type": "markdown",
   "metadata": {},
   "source": [
    "The following functions are used to:\n",
    "\n",
    "1. **one_hot_encoding** In order to transform letters into inputs.\n",
    "\n",
    "2. **generate_names** Generate aleatory names."
   ]
  },
  {
   "cell_type": "code",
   "execution_count": 4,
   "metadata": {},
   "outputs": [],
   "source": [
    "def one_hot_encoding(input, size):\n",
    "    \"\"\"\n",
    "    Do one hot encoding for a given input and size.\n",
    "    \n",
    "    Parameters\n",
    "    ----------\n",
    "    input : list\n",
    "        list containing the numbers to make the \n",
    "        one hot encoding\n",
    "    size : int\n",
    "        Maximum size of the one hot encoding.\n",
    "        \n",
    "    Returns\n",
    "    -------\n",
    "    output : list\n",
    "        List with the one hot encoding arrays.\n",
    "    \"\"\"\n",
    "    output = []\n",
    "\n",
    "    for index, num in enumerate(input):\n",
    "        one_hot = np.zeros((size, 1))\n",
    "\n",
    "        if (num != None):\n",
    "            one_hot[num] = 1\n",
    "    \n",
    "        output.append(one_hot.tolist())\n",
    "\n",
    "    return np.array(output)\n",
    "\n",
    "\n",
    "def generate_names(index_to_character, model):\n",
    "    \"\"\"\n",
    "    Generates a random names with the pretrained RNN.\n",
    "    Parameters\n",
    "    ----------\n",
    "    index_to_character : dict\n",
    "        Dictionary that relates the indexes with the letters\n",
    "        to be used in order to create the name.\n",
    "    Returns\n",
    "    -------\n",
    "    name : list\n",
    "        List containing the final name predicted.\n",
    "    \"\"\"\n",
    "    letter = None\n",
    "    indexes = list(index_to_character.keys())\n",
    "\n",
    "    letter_x = np.zeros((model.layers[0].input_dim, 1))\n",
    "    name = []\n",
    "\n",
    "    # similar to forward propagation.\n",
    "    hidden = np.zeros((model.layers[0].hidden_dim , 1))\n",
    "\n",
    "    while letter != '\\n' and len(name)<15:\n",
    "        \n",
    "        hidden = model.layers[0].rnn_cell.forward(letter_x, hidden)\n",
    "        input_softmax = model.layers[0].lineal.forward(hidden)\n",
    "        y_pred = model.layers[0].softmax.forward(input_softmax)\n",
    "\n",
    "        index = np.random.choice(indexes, p=y_pred.ravel())\n",
    "        letter = index_to_character[index]\n",
    "\n",
    "        name.append(letter)\n",
    "\n",
    "        letter_x = np.zeros((model.layers[0].input_dim, 1))\n",
    "        letter_x[index] = 1\n",
    "\n",
    "    return \"\".join(name)"
   ]
  },
  {
   "cell_type": "markdown",
   "metadata": {},
   "source": [
    "### Data\n",
    "\n",
    "The data contains 18239 names."
   ]
  },
  {
   "cell_type": "code",
   "execution_count": 5,
   "metadata": {},
   "outputs": [],
   "source": [
    "input_dim = 27\n",
    "output_dim = 27\n",
    "hidden_dim = 50\n",
    "\n",
    "# Load data with the names\n",
    "person_names = open(PATH_DATA / 'person_names.txt', 'r').read()\n",
    "person_names= person_names.lower()\n",
    "characters = list(set(person_names))\n",
    "\n",
    "character_to_index = {character:index for index,character in enumerate(sorted(characters))}\n",
    "index_to_character = {index:character for index,character in enumerate(sorted(characters))}\n",
    "\n",
    "with open(PATH_DATA / 'person_names.txt') as f:\n",
    "    person_names = f.readlines()\n",
    "\n",
    "person_names = [name.lower().strip() for name in person_names]\n",
    "np.random.shuffle(person_names)"
   ]
  },
  {
   "cell_type": "markdown",
   "metadata": {},
   "source": [
    "Example of some of the names contained in person_names.txt"
   ]
  },
  {
   "cell_type": "code",
   "execution_count": 6,
   "metadata": {},
   "outputs": [
    {
     "name": "stdout",
     "output_type": "stream",
     "text": [
      "['alysse', 'phoebe', 'jabarri', 'alban', 'shaqwana']\n"
     ]
    }
   ],
   "source": [
    "print(person_names[:5])"
   ]
  },
  {
   "cell_type": "markdown",
   "metadata": {},
   "source": [
    "### The model"
   ]
  },
  {
   "cell_type": "code",
   "execution_count": 7,
   "metadata": {},
   "outputs": [],
   "source": [
    "# Initialize the model\n",
    "model = NNet()\n",
    "# Create the model structure\n",
    "model.add(RNN(input_dim, output_dim, hidden_dim))\n",
    "\n",
    "loss = NLLLoss()\n",
    "optim = Adam()"
   ]
  },
  {
   "cell_type": "markdown",
   "metadata": {},
   "source": [
    "Example of prediction"
   ]
  },
  {
   "cell_type": "code",
   "execution_count": 8,
   "metadata": {},
   "outputs": [
    {
     "name": "stdout",
     "output_type": "stream",
     "text": [
      "buosmjz\n",
      "\n",
      "yxjepduggxxnwiz\n",
      "khazlsrraxynzgo\n",
      "jphvbaadkycqmie\n",
      "easqkscywqjjmyw\n"
     ]
    }
   ],
   "source": [
    "for i in range(5):\n",
    "    name = generate_names(index_to_character, model)\n",
    "    print(name)"
   ]
  },
  {
   "cell_type": "code",
   "execution_count": 9,
   "metadata": {},
   "outputs": [
    {
     "name": "stdout",
     "output_type": "stream",
     "text": [
      "Cost after iteration 0.000000e+00poch: 0.832073\n",
      "Cost after iteration 1.000000e+04poch: 0.971043\n",
      "Cost after iteration 2.000000e+04poch: 0.562794\n",
      "Cost after iteration 3.000000e+04poch: 0.601051\n"
     ]
    }
   ],
   "source": [
    "# Train the model\n",
    "costs = []\n",
    "num_epochs = 30000\n",
    "\n",
    "for epoch in range(num_epochs + 1):\n",
    "    # create the X inputs and Y labels\n",
    "    index = epoch % len(person_names)\n",
    "    X = [None] + [character_to_index[ch] for ch in person_names[index]] \n",
    "    Y = X[1:] + [character_to_index[\"\\n\"]]\n",
    "\n",
    "    # transform the input X and label Y into one hot enconding.\n",
    "    X = one_hot_encoding(X, input_dim)\n",
    "    Y = one_hot_encoding(Y, output_dim)\n",
    "\n",
    "    model.forward(X)\n",
    "    cost = model.loss(Y, loss)\n",
    "    model.backward()\n",
    "    model.optimize(optim)\n",
    "    \n",
    "    costs.append(cost)\n",
    "\n",
    "    if epoch % 10000 == 0:\n",
    "        print (\"Cost after iteration %epoch: %f\" %(epoch, cost))"
   ]
  },
  {
   "cell_type": "code",
   "execution_count": 10,
   "metadata": {},
   "outputs": [
    {
     "name": "stdout",
     "output_type": "stream",
     "text": [
      "ketullanickei\n",
      "\n",
      "lorita\n",
      "\n",
      "ustal\n",
      "\n",
      "foshanda\n",
      "\n",
      "jicku\n",
      "\n"
     ]
    }
   ],
   "source": [
    "for i in range(5):\n",
    "    name = generate_names(index_to_character, model)\n",
    "    print(name)"
   ]
  },
  {
   "cell_type": "markdown",
   "metadata": {},
   "source": [
    "Really well! It seems the model can create now new names."
   ]
  }
 ],
 "metadata": {
  "kernelspec": {
   "display_name": "mynet",
   "language": "python",
   "name": "mynet"
  },
  "language_info": {
   "codemirror_mode": {
    "name": "ipython",
    "version": 3
   },
   "file_extension": ".py",
   "mimetype": "text/x-python",
   "name": "python",
   "nbconvert_exporter": "python",
   "pygments_lexer": "ipython3",
   "version": "3.8.5"
  }
 },
 "nbformat": 4,
 "nbformat_minor": 4
}
