{
 "cells": [
  {
   "cell_type": "markdown",
   "metadata": {},
   "source": [
    "### RNN example\n",
    "\n",
    "In this notebook we will see an example of the RNN built in RNN.py. In this example we will be using the data person_names.txt to create new names."
   ]
  },
  {
   "cell_type": "code",
   "execution_count": 1,
   "metadata": {},
   "outputs": [],
   "source": [
    "import numpy as np\n",
    "import matplotlib.pyplot as plt\n",
    "\n",
    "from pathlib import Path\n",
    "from DNet.layers import NLLLoss, RNN\n",
    "from DNet.optimizers import Adam\n",
    "from DNet.model import NNet"
   ]
  },
  {
   "cell_type": "code",
   "execution_count": 2,
   "metadata": {},
   "outputs": [],
   "source": [
    "PATH = Path.cwd()\n",
    "PATH_DATA = PATH / 'data'"
   ]
  },
  {
   "cell_type": "markdown",
   "metadata": {},
   "source": [
    "Lets set the random.seed in order to generate always the same weights."
   ]
  },
  {
   "cell_type": "code",
   "execution_count": 3,
   "metadata": {},
   "outputs": [],
   "source": [
    "np.random.seed(1)"
   ]
  },
  {
   "cell_type": "markdown",
   "metadata": {},
   "source": [
    "The following functions are used to:\n",
    "\n",
    "1. **one_hot_encoding** In order to transform letters into inputs.\n",
    "\n",
    "2. **generate_names** Generate aleatory names."
   ]
  },
  {
   "cell_type": "code",
   "execution_count": 4,
   "metadata": {},
   "outputs": [],
   "source": [
    "def one_hot_encoding(input, size):\n",
    "    \"\"\"\n",
    "    Do one hot encoding for a given input and size.\n",
    "    \n",
    "    Parameters\n",
    "    ----------\n",
    "    input : list\n",
    "        list containing the numbers to make the \n",
    "        one hot encoding\n",
    "    size : int\n",
    "        Maximum size of the one hot encoding.\n",
    "        \n",
    "    Returns\n",
    "    -------\n",
    "    output : list\n",
    "        List with the one hot encoding arrays.\n",
    "    \"\"\"\n",
    "    output = []\n",
    "\n",
    "    for index, num in enumerate(input):\n",
    "        one_hot = np.zeros((size, 1))\n",
    "\n",
    "        if (num != None):\n",
    "            one_hot[num] = 1\n",
    "    \n",
    "        output.append(one_hot.tolist())\n",
    "\n",
    "    return np.array(output)\n",
    "\n",
    "\n",
    "def generate_names(index_to_character, model):\n",
    "    \"\"\"\n",
    "    Generates a random names with the pretrained RNN.\n",
    "    Parameters\n",
    "    ----------\n",
    "    index_to_character : dict\n",
    "        Dictionary that relates the indexes with the letters\n",
    "        to be used in order to create the name.\n",
    "    Returns\n",
    "    -------\n",
    "    name : list\n",
    "        List containing the final name predicted.\n",
    "    \"\"\"\n",
    "    letter = None\n",
    "    indexes = list(index_to_character.keys())\n",
    "\n",
    "    letter_x = np.zeros((model.layers[0].input_dim, 1))\n",
    "    name = []\n",
    "\n",
    "    # similar to forward propagation.\n",
    "    hidden = np.zeros((model.layers[0].hidden_dim , 1))\n",
    "\n",
    "    while letter != '\\n' and len(name)<15:\n",
    "        \n",
    "        hidden = model.layers[0].rnn_cell.forward(letter_x, hidden)\n",
    "        input_softmax = model.layers[0].lineal.forward(hidden)\n",
    "        y_pred = model.layers[0].softmax.forward(input_softmax)\n",
    "\n",
    "        index = np.random.choice(indexes, p=y_pred.ravel())\n",
    "        letter = index_to_character[index]\n",
    "\n",
    "        name.append(letter)\n",
    "\n",
    "        letter_x = np.zeros((model.layers[0].input_dim, 1))\n",
    "        letter_x[index] = 1\n",
    "\n",
    "    return \"\".join(name)"
   ]
  },
  {
   "cell_type": "markdown",
   "metadata": {},
   "source": [
    "### Data\n",
    "\n",
    "The data contains 18239 names."
   ]
  },
  {
   "cell_type": "code",
   "execution_count": 5,
   "metadata": {},
   "outputs": [],
   "source": [
    "input_dim = 27\n",
    "output_dim = 27\n",
    "hidden_dim = 50\n",
    "\n",
    "# Load data with the names\n",
    "person_names = open(PATH_DATA / 'person_names.txt', 'r').read()\n",
    "person_names= person_names.lower()\n",
    "characters = list(set(person_names))\n",
    "\n",
    "character_to_index = {character:index for index,character in enumerate(sorted(characters))}\n",
    "index_to_character = {index:character for index,character in enumerate(sorted(characters))}\n",
    "\n",
    "with open(PATH_DATA / 'person_names.txt') as f:\n",
    "    person_names = f.readlines()\n",
    "\n",
    "person_names = [name.lower().strip() for name in person_names]\n",
    "np.random.shuffle(person_names)"
   ]
  },
  {
   "cell_type": "markdown",
   "metadata": {},
   "source": [
    "Example of some of the names contained in person_names.txt"
   ]
  },
  {
   "cell_type": "code",
   "execution_count": 6,
   "metadata": {},
   "outputs": [
    {
     "name": "stdout",
     "output_type": "stream",
     "text": [
      "['alysse', 'phoebe', 'jabarri', 'alban', 'shaqwana']\n"
     ]
    }
   ],
   "source": [
    "print(person_names[:5])"
   ]
  },
  {
   "cell_type": "markdown",
   "metadata": {},
   "source": [
    "### The model"
   ]
  },
  {
   "cell_type": "code",
   "execution_count": 7,
   "metadata": {},
   "outputs": [],
   "source": [
    "# Initialize the model\n",
    "model = NNet()\n",
    "# Create the model structure\n",
    "model.add(RNN(input_dim, output_dim, hidden_dim))\n",
    "\n",
    "loss = NLLLoss()\n",
    "optim = Adam()"
   ]
  },
  {
   "cell_type": "markdown",
   "metadata": {},
   "source": [
    "Example of prediction"
   ]
  },
  {
   "cell_type": "code",
   "execution_count": 8,
   "metadata": {},
   "outputs": [
    {
     "name": "stdout",
     "output_type": "stream",
     "text": [
      "buosmjz\n",
      "\n",
      "yxjepduggxxnwiz\n",
      "khazlsrraxynzgo\n",
      "jphvbaadkycqmie\n",
      "easqkscywqjjmyw\n"
     ]
    }
   ],
   "source": [
    "for i in range(5):\n",
    "    name = generate_names(index_to_character, model)\n",
    "    print(name)"
   ]
  },
  {
   "cell_type": "code",
   "execution_count": 9,
   "metadata": {},
   "outputs": [
    {
     "name": "stdout",
     "output_type": "stream",
     "text": [
      "Cost after iteration 0.000000e+00poch: 0.832073\n",
      "Cost after iteration 1.000000e+04poch: 0.971043\n",
      "Cost after iteration 2.000000e+04poch: 0.562794\n",
      "Cost after iteration 3.000000e+04poch: 0.601051\n"
     ]
    }
   ],
   "source": [
    "# Train the model\n",
    "costs = []\n",
    "num_epochs = 30000\n",
    "\n",
    "for epoch in range(num_epochs + 1):\n",
    "    # create the X inputs and Y labels\n",
    "    index = epoch % len(person_names)\n",
    "    X = [None] + [character_to_index[ch] for ch in person_names[index]] \n",
    "    Y = X[1:] + [character_to_index[\"\\n\"]]\n",
    "\n",
    "    # transform the input X and label Y into one hot enconding.\n",
    "    X = one_hot_encoding(X, input_dim)\n",
    "    Y = one_hot_encoding(Y, output_dim)\n",
    "\n",
    "    model.forward(X)\n",
    "    cost = model.loss(Y, loss)\n",
    "    model.backward()\n",
    "    model.optimize(optim)\n",
    "    \n",
    "    costs.append(cost)\n",
    "\n",
    "    if epoch % 10000 == 0:\n",
    "        print (\"Cost after iteration %epoch: %f\" %(epoch, cost))"
   ]
  },
  {
   "cell_type": "code",
   "execution_count": 10,
   "metadata": {},
   "outputs": [
    {
     "name": "stdout",
     "output_type": "stream",
     "text": [
      "ketullanickei\n",
      "\n",
      "lorita\n",
      "\n",
      "ustal\n",
      "\n",
      "foshanda\n",
      "\n",
      "jicku\n",
      "\n"
     ]
    }
   ],
   "source": [
    "for i in range(5):\n",
    "    name = generate_names(index_to_character, model)\n",
    "    print(name)"
   ]
  },
  {
   "cell_type": "markdown",
   "metadata": {},
   "source": [
    "Really well! It seems the model can create now new names."
   ]
  },
  {
   "cell_type": "code",
   "execution_count": 11,
   "metadata": {},
   "outputs": [],
   "source": [
    "from DNet.layers import RNNCell"
   ]
  },
  {
   "cell_type": "code",
   "execution_count": 18,
   "metadata": {},
   "outputs": [],
   "source": [
    "weights = np.array(\n",
    "    [[ 0.81217268, -0.30587821, -0.26408588, -0.53648431],\n",
    "   [ 0.43270381, -1.15076935,  0.87240588, -0.38060345]]\n",
    ")\n",
    "\n",
    "dZ = np.array([[ 1.74481176], [-0.7612069]])"
   ]
  },
  {
   "cell_type": "code",
   "execution_count": 19,
   "metadata": {},
   "outputs": [],
   "source": [
    "input = np.array([[0.86540763], [-2.3015387]])\n",
    "hidden = np.zeros((2, 1))\n",
    "combined = np.concatenate((input, hidden), axis=0)\n",
    "\n",
    "expected_d_hidden = np.array([[-0.13050669], [-0.26152525]])\n",
    "\n",
    "input_dim = 2\n",
    "hidden_dim = 2\n",
    "\n",
    "recurrent = RNNCell(input_dim, hidden_dim)\n",
    "recurrent.lineal.weights = weights"
   ]
  },
  {
   "cell_type": "code",
   "execution_count": 20,
   "metadata": {},
   "outputs": [],
   "source": [
    "hidden = recurrent.forward(input, hidden)\n"
   ]
  },
  {
   "cell_type": "code",
   "execution_count": 21,
   "metadata": {},
   "outputs": [],
   "source": [
    "obtained_d_hidden = recurrent.backward(\n",
    "    dZ=dZ, hidden=hidden, combined=combined\n",
    ")\n"
   ]
  },
  {
   "cell_type": "code",
   "execution_count": 22,
   "metadata": {},
   "outputs": [
    {
     "data": {
      "text/plain": [
       "array([[-0.10465545],\n",
       "       [-0.19716043]])"
      ]
     },
     "execution_count": 22,
     "metadata": {},
     "output_type": "execute_result"
    }
   ],
   "source": [
    "obtained_d_hidden"
   ]
  },
  {
   "cell_type": "code",
   "execution_count": 24,
   "metadata": {},
   "outputs": [
    {
     "ename": "AssertionError",
     "evalue": "\nArrays are not almost equal to 7 decimals\n\nMismatched elements: 2 / 2 (100%)\nMax absolute difference: 0.06436482\nMax relative difference: 0.32645913\n x: array([[-0.1305067],\n       [-0.2615252]])\n y: array([[-0.1046554],\n       [-0.1971604]])",
     "output_type": "error",
     "traceback": [
      "\u001b[1;31m---------------------------------------------------------------------------\u001b[0m",
      "\u001b[1;31mAssertionError\u001b[0m                            Traceback (most recent call last)",
      "\u001b[1;32m<ipython-input-24-f2e3923175c9>\u001b[0m in \u001b[0;36m<module>\u001b[1;34m\u001b[0m\n\u001b[1;32m----> 1\u001b[1;33m \u001b[0mnp\u001b[0m\u001b[1;33m.\u001b[0m\u001b[0mtesting\u001b[0m\u001b[1;33m.\u001b[0m\u001b[0massert_almost_equal\u001b[0m\u001b[1;33m(\u001b[0m\u001b[0mexpected_d_hidden\u001b[0m\u001b[1;33m,\u001b[0m \u001b[0mobtained_d_hidden\u001b[0m\u001b[1;33m)\u001b[0m\u001b[1;33m\u001b[0m\u001b[1;33m\u001b[0m\u001b[0m\n\u001b[0m",
      "    \u001b[1;31m[... skipping hidden 3 frame]\u001b[0m\n",
      "\u001b[1;31mAssertionError\u001b[0m: \nArrays are not almost equal to 7 decimals\n\nMismatched elements: 2 / 2 (100%)\nMax absolute difference: 0.06436482\nMax relative difference: 0.32645913\n x: array([[-0.1305067],\n       [-0.2615252]])\n y: array([[-0.1046554],\n       [-0.1971604]])"
     ]
    }
   ],
   "source": [
    "\n",
    "\n",
    "np.testing.assert_almost_equal(expected_d_hidden, obtained_d_hidden)   "
   ]
  },
  {
   "cell_type": "code",
   "execution_count": null,
   "metadata": {},
   "outputs": [],
   "source": []
  }
 ],
 "metadata": {
  "kernelspec": {
   "display_name": "mynet",
   "language": "python",
   "name": "mynet"
  },
  "language_info": {
   "codemirror_mode": {
    "name": "ipython",
    "version": 3
   },
   "file_extension": ".py",
   "mimetype": "text/x-python",
   "name": "python",
   "nbconvert_exporter": "python",
   "pygments_lexer": "ipython3",
   "version": "3.8.5"
  }
 },
 "nbformat": 4,
 "nbformat_minor": 4
}
