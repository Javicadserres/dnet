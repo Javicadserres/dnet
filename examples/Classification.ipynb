{
 "cells": [
  {
   "cell_type": "code",
   "execution_count": 2,
   "metadata": {},
   "outputs": [],
   "source": [
    "import numpy as np\n",
    "import pandas as pd\n",
    "import matplotlib.pyplot as plt\n",
    "\n",
    "from sklearn.datasets import make_classification\n",
    "from sklearn.model_selection import train_test_split\n",
    "from dnetworks.model import NNet\n",
    "from dnetworks.layers import (\n",
    "    LinearLayer, \n",
    "    LeakyReLU, \n",
    "    Sigmoid,\n",
    "    BCELoss, \n",
    "    Conv2D,\n",
    "    MaxPooling2D, \n",
    "    AveragePooling2D,\n",
    "    Flatten\n",
    ")\n",
    "from dnetworks.optimizers import Adam"
   ]
  },
  {
   "cell_type": "markdown",
   "metadata": {},
   "source": [
    "### Dataset"
   ]
  },
  {
   "cell_type": "code",
   "execution_count": 3,
   "metadata": {},
   "outputs": [],
   "source": [
    "# initialize the parameters of the dataset\n",
    "n_samples = 10000\n",
    "noise = 6\n",
    "random_state = 1\n",
    "\n",
    "# Create the dataset\n",
    "x, y = make_classification(\n",
    "    n_samples=n_samples, random_state=random_state\n",
    ")\n",
    "x_train, x_test, y_train, y_test = train_test_split(\n",
    "    x, y, test_size=0.4, random_state=1\n",
    ")"
   ]
  },
  {
   "cell_type": "markdown",
   "metadata": {},
   "source": [
    "### Model"
   ]
  },
  {
   "cell_type": "code",
   "execution_count": 5,
   "metadata": {},
   "outputs": [],
   "source": [
    "# Initialize the model\n",
    "model = NNet()\n",
    "\n",
    "# Create the model structure\n",
    "model.add(LinearLayer(x.shape[1], 20))\n",
    "model.add(LeakyReLU())\n",
    " \n",
    "model.add(LinearLayer(20,7))\n",
    "model.add(LeakyReLU())\n",
    " \n",
    "model.add(LinearLayer(7, 5))\n",
    "model.add(LeakyReLU())\n",
    " \n",
    "model.add(LinearLayer(5,1))\n",
    "model.add(Sigmoid())\n",
    "\n",
    "# set the loss functions and the optimize method\n",
    "loss = BCELoss()\n",
    "optim = Adam()"
   ]
  },
  {
   "cell_type": "code",
   "execution_count": 7,
   "metadata": {
    "scrolled": true
   },
   "outputs": [
    {
     "name": "stdout",
     "output_type": "stream",
     "text": [
      "Cost after iteration 0.000000e+00poch: 0.734081\n",
      "Cost after iteration 1.000000e+02poch: 0.144793\n",
      "Cost after iteration 2.000000e+02poch: 0.102105\n",
      "Cost after iteration 3.000000e+02poch: 0.066322\n",
      "Cost after iteration 4.000000e+02poch: 0.045945\n",
      "Cost after iteration 5.000000e+02poch: 0.036492\n",
      "Cost after iteration 6.000000e+02poch: 0.030386\n",
      "Cost after iteration 7.000000e+02poch: 0.026186\n",
      "Cost after iteration 8.000000e+02poch: 0.022418\n",
      "Cost after iteration 9.000000e+02poch: 0.019751\n",
      "Cost after iteration 1.000000e+03poch: 0.017645\n",
      "Cost after iteration 1.100000e+03poch: 0.018119\n",
      "Cost after iteration 1.200000e+03poch: 0.014129\n",
      "Cost after iteration 1.300000e+03poch: 0.012729\n",
      "Cost after iteration 1.400000e+03poch: 0.028497\n",
      "Cost after iteration 1.500000e+03poch: 0.010557\n",
      "Cost after iteration 1.600000e+03poch: 0.009605\n",
      "Cost after iteration 1.700000e+03poch: 0.008738\n",
      "Cost after iteration 1.800000e+03poch: 0.008257\n",
      "Cost after iteration 1.900000e+03poch: 0.007533\n",
      "Cost after iteration 2.000000e+03poch: 0.007161\n",
      "Cost after iteration 2.100000e+03poch: 0.006607\n",
      "Cost after iteration 2.200000e+03poch: 0.006794\n",
      "Cost after iteration 2.300000e+03poch: 0.006282\n",
      "Cost after iteration 2.400000e+03poch: 0.006071\n",
      "Cost after iteration 2.500000e+03poch: 0.005856\n",
      "Cost after iteration 2.600000e+03poch: 0.005506\n",
      "Cost after iteration 2.700000e+03poch: 0.005870\n",
      "Cost after iteration 2.800000e+03poch: 0.005275\n",
      "Cost after iteration 2.900000e+03poch: 0.005141\n",
      "Cost after iteration 3.000000e+03poch: 0.005030\n",
      "Cost after iteration 3.100000e+03poch: 0.004917\n",
      "Cost after iteration 3.200000e+03poch: 0.006515\n",
      "Cost after iteration 3.300000e+03poch: 0.005077\n",
      "Cost after iteration 3.400000e+03poch: 0.004610\n",
      "Cost after iteration 3.500000e+03poch: 0.004233\n",
      "Cost after iteration 3.600000e+03poch: 0.004112\n",
      "Cost after iteration 3.700000e+03poch: 0.004046\n",
      "Cost after iteration 3.800000e+03poch: 0.004238\n",
      "Cost after iteration 3.900000e+03poch: 0.003938\n",
      "Cost after iteration 4.000000e+03poch: 0.003852\n",
      "Cost after iteration 4.100000e+03poch: 0.003771\n",
      "Cost after iteration 4.200000e+03poch: 0.003754\n",
      "Cost after iteration 4.300000e+03poch: 0.004548\n",
      "Cost after iteration 4.400000e+03poch: 0.003802\n",
      "Cost after iteration 4.500000e+03poch: 0.003745\n",
      "Cost after iteration 4.600000e+03poch: 0.003695\n",
      "Cost after iteration 4.700000e+03poch: 0.003563\n",
      "Cost after iteration 4.800000e+03poch: 0.003557\n",
      "Cost after iteration 4.900000e+03poch: 0.004118\n",
      "Cost after iteration 5.000000e+03poch: 0.003624\n",
      "Cost after iteration 5.100000e+03poch: 0.003501\n",
      "Cost after iteration 5.200000e+03poch: 0.003583\n",
      "Cost after iteration 5.300000e+03poch: 0.003428\n",
      "Cost after iteration 5.400000e+03poch: 0.003362\n",
      "Cost after iteration 5.500000e+03poch: 0.003850\n",
      "Cost after iteration 5.600000e+03poch: 0.003436\n",
      "Cost after iteration 5.700000e+03poch: 0.003341\n",
      "Cost after iteration 5.800000e+03poch: 0.003366\n",
      "Cost after iteration 5.900000e+03poch: 0.003236\n",
      "Cost after iteration 6.000000e+03poch: 0.005485\n",
      "Cost after iteration 6.100000e+03poch: 0.003523\n",
      "Cost after iteration 6.200000e+03poch: 0.003409\n",
      "Cost after iteration 6.300000e+03poch: 0.003232\n",
      "Cost after iteration 6.400000e+03poch: 0.002752\n",
      "Cost after iteration 6.500000e+03poch: 0.002644\n"
     ]
    },
    {
     "name": "stderr",
     "output_type": "stream",
     "text": [
      "c:\\users\\javier\\documents\\javier\\github\\dnet\\DNet\\layers\\activation.py:78: RuntimeWarning: overflow encountered in exp\n",
      "  self.A = 1 / (1 + np.exp(- Z))\n"
     ]
    },
    {
     "name": "stdout",
     "output_type": "stream",
     "text": [
      "Cost after iteration 6.600000e+03poch: 0.004497\n",
      "Cost after iteration 6.700000e+03poch: 0.002967\n",
      "Cost after iteration 6.800000e+03poch: 0.002637\n",
      "Cost after iteration 6.900000e+03poch: 0.002551\n"
     ]
    }
   ],
   "source": [
    "# Train the model\n",
    "costs = []\n",
    "\n",
    "for epoch in range(7000):\n",
    "    model.forward(x_train.T)\n",
    "    cost = model.loss(y_train, loss)\n",
    "    model.backward()\n",
    "    model.optimize(optim)\n",
    "\n",
    "    if epoch % 100 == 0:\n",
    "        print (\"Cost after iteration %epoch: %f\" %(epoch, cost))\n",
    "        costs.append(cost)"
   ]
  },
  {
   "cell_type": "code",
   "execution_count": 10,
   "metadata": {},
   "outputs": [
    {
     "data": {
      "image/png": "[encoded data removed]",
      "text/plain": [
       "<Figure size 504x216 with 1 Axes>"
      ]
     },
     "metadata": {
      "needs_background": "light"
     },
     "output_type": "display_data"
    }
   ],
   "source": [
    "# plot the loss evolution\n",
    "costs_ss = pd.Series(costs[1:])\n",
    "\n",
    "plt.figure(figsize=(7, 3))\n",
    "plt.plot(costs_ss)\n",
    "plt.ylabel('cost')\n",
    "plt.xlabel('iterations (per hundreds)')\n",
    "plt.title('Loss per epoch')\n",
    "plt.show()"
   ]
  },
  {
   "cell_type": "code",
   "execution_count": null,
   "metadata": {},
   "outputs": [],
   "source": []
  }
 ],
 "metadata": {
  "kernelspec": {
   "display_name": "mynet",
   "language": "python",
   "name": "mynet"
  },
  "language_info": {
   "codemirror_mode": {
    "name": "ipython",
    "version": 3
   },
   "file_extension": ".py",
   "mimetype": "text/x-python",
   "name": "python",
   "nbconvert_exporter": "python",
   "pygments_lexer": "ipython3",
   "version": "3.8.5"
  }
 },
 "nbformat": 4,
 "nbformat_minor": 4
}
