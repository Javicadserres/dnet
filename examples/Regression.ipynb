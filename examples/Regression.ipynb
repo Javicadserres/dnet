{
 "cells": [
  {
   "cell_type": "code",
   "execution_count": 1,
   "metadata": {},
   "outputs": [],
   "source": [
    "import numpy as np\n",
    "import pandas as pd\n",
    "import matplotlib.pyplot as plt\n",
    "\n",
    "from sklearn.datasets import load_boston\n",
    "from sklearn.model_selection import train_test_split\n",
    "from dnetworks.model import NNet\n",
    "from dnetworks.layers import (\n",
    "    LinearLayer, \n",
    "    LeakyReLU, \n",
    "    Sigmoid,\n",
    "    MSELoss, \n",
    "    Conv2D,\n",
    "    MaxPooling2D, \n",
    "    AveragePooling2D,\n",
    "    Flatten\n",
    ")\n",
    "from dnetworks.optimizers import Adam"
   ]
  },
  {
   "cell_type": "markdown",
   "metadata": {},
   "source": [
    "### Dataset"
   ]
  },
  {
   "cell_type": "code",
   "execution_count": 2,
   "metadata": {},
   "outputs": [],
   "source": [
    "# initialize the parameters of the dataset\n",
    "n_samples = 10000\n",
    "random_state = 1\n",
    "\n",
    "# Create the dataset\n",
    "x, y = load_boston(return_X_y=True)\n",
    "x_train, x_test, y_train, y_test = train_test_split(\n",
    "    x, y, test_size=0.4, random_state=1\n",
    ")"
   ]
  },
  {
   "cell_type": "markdown",
   "metadata": {},
   "source": [
    "### Model"
   ]
  },
  {
   "cell_type": "code",
   "execution_count": 4,
   "metadata": {},
   "outputs": [],
   "source": [
    "# Initialize the model\n",
    "model = NNet()\n",
    "\n",
    "# Create the model structure\n",
    "model.add(LinearLayer(x.shape[1], 20))\n",
    "model.add(LeakyReLU())\n",
    " \n",
    "model.add(LinearLayer(20,7))\n",
    "model.add(LeakyReLU())\n",
    " \n",
    "model.add(LinearLayer(7, 5))\n",
    "model.add(LeakyReLU())\n",
    " \n",
    "model.add(LinearLayer(5,1))\n",
    "\n",
    "# set the loss functions and the optimize method\n",
    "loss = MSELoss()\n",
    "optim = Adam(lr=0.001)"
   ]
  },
  {
   "cell_type": "markdown",
   "metadata": {},
   "source": [
    "### Train the model"
   ]
  },
  {
   "cell_type": "code",
   "execution_count": 6,
   "metadata": {
    "scrolled": true
   },
   "outputs": [
    {
     "name": "stdout",
     "output_type": "stream",
     "text": [
      "Cost after iteration 0.000000e+00poch: 4324.257692\n",
      "Cost after iteration 1.000000e+02poch: 443.670184\n",
      "Cost after iteration 2.000000e+02poch: 69.217344\n",
      "Cost after iteration 3.000000e+02poch: 48.880776\n",
      "Cost after iteration 4.000000e+02poch: 36.945276\n",
      "Cost after iteration 5.000000e+02poch: 29.294941\n",
      "Cost after iteration 6.000000e+02poch: 25.504009\n",
      "Cost after iteration 7.000000e+02poch: 23.946967\n",
      "Cost after iteration 8.000000e+02poch: 22.001994\n",
      "Cost after iteration 9.000000e+02poch: 20.466137\n",
      "Cost after iteration 1.000000e+03poch: 19.243503\n",
      "Cost after iteration 1.100000e+03poch: 18.205905\n",
      "Cost after iteration 1.200000e+03poch: 17.179663\n",
      "Cost after iteration 1.300000e+03poch: 16.266738\n",
      "Cost after iteration 1.400000e+03poch: 15.481194\n",
      "Cost after iteration 1.500000e+03poch: 14.610083\n",
      "Cost after iteration 1.600000e+03poch: 13.692370\n",
      "Cost after iteration 1.700000e+03poch: 12.781531\n",
      "Cost after iteration 1.800000e+03poch: 12.166655\n",
      "Cost after iteration 1.900000e+03poch: 11.388145\n",
      "Cost after iteration 2.000000e+03poch: 10.748407\n",
      "Cost after iteration 2.100000e+03poch: 10.727873\n",
      "Cost after iteration 2.200000e+03poch: 9.971122\n",
      "Cost after iteration 2.300000e+03poch: 9.666761\n",
      "Cost after iteration 2.400000e+03poch: 9.570764\n",
      "Cost after iteration 2.500000e+03poch: 9.462734\n",
      "Cost after iteration 2.600000e+03poch: 9.123659\n",
      "Cost after iteration 2.700000e+03poch: 8.806141\n",
      "Cost after iteration 2.800000e+03poch: 8.642897\n",
      "Cost after iteration 2.900000e+03poch: 8.809809\n",
      "Cost after iteration 3.000000e+03poch: 9.166917\n",
      "Cost after iteration 3.100000e+03poch: 8.320669\n",
      "Cost after iteration 3.200000e+03poch: 8.222224\n",
      "Cost after iteration 3.300000e+03poch: 8.135762\n",
      "Cost after iteration 3.400000e+03poch: 8.053696\n",
      "Cost after iteration 3.500000e+03poch: 7.900327\n",
      "Cost after iteration 3.600000e+03poch: 7.812914\n",
      "Cost after iteration 3.700000e+03poch: 8.699071\n",
      "Cost after iteration 3.800000e+03poch: 7.395598\n",
      "Cost after iteration 3.900000e+03poch: 7.455988\n",
      "Cost after iteration 4.000000e+03poch: 7.507230\n",
      "Cost after iteration 4.100000e+03poch: 7.229355\n",
      "Cost after iteration 4.200000e+03poch: 7.838208\n",
      "Cost after iteration 4.300000e+03poch: 7.425185\n",
      "Cost after iteration 4.400000e+03poch: 7.134963\n",
      "Cost after iteration 4.500000e+03poch: 7.639868\n",
      "Cost after iteration 4.600000e+03poch: 7.141834\n",
      "Cost after iteration 4.700000e+03poch: 7.079639\n",
      "Cost after iteration 4.800000e+03poch: 7.040976\n",
      "Cost after iteration 4.900000e+03poch: 7.032457\n",
      "Cost after iteration 5.000000e+03poch: 7.000440\n",
      "Cost after iteration 5.100000e+03poch: 6.955082\n",
      "Cost after iteration 5.200000e+03poch: 7.241484\n",
      "Cost after iteration 5.300000e+03poch: 7.690678\n",
      "Cost after iteration 5.400000e+03poch: 7.128568\n",
      "Cost after iteration 5.500000e+03poch: 6.958462\n",
      "Cost after iteration 5.600000e+03poch: 7.281513\n",
      "Cost after iteration 5.700000e+03poch: 7.084917\n",
      "Cost after iteration 5.800000e+03poch: 6.903980\n",
      "Cost after iteration 5.900000e+03poch: 6.896663\n",
      "Cost after iteration 6.000000e+03poch: 6.803788\n",
      "Cost after iteration 6.100000e+03poch: 7.123479\n",
      "Cost after iteration 6.200000e+03poch: 6.753626\n",
      "Cost after iteration 6.300000e+03poch: 6.551427\n",
      "Cost after iteration 6.400000e+03poch: 6.552036\n",
      "Cost after iteration 6.500000e+03poch: 6.593875\n",
      "Cost after iteration 6.600000e+03poch: 6.538650\n",
      "Cost after iteration 6.700000e+03poch: 6.348640\n",
      "Cost after iteration 6.800000e+03poch: 6.318384\n",
      "Cost after iteration 6.900000e+03poch: 6.601087\n"
     ]
    }
   ],
   "source": [
    "# Train the model\n",
    "costs = []\n",
    "\n",
    "for epoch in range(7000):\n",
    "    model.forward(x_train.T)\n",
    "    cost = model.loss(y_train, loss)\n",
    "    model.backward()\n",
    "    model.optimize(optim)\n",
    "\n",
    "    if epoch % 100 == 0:\n",
    "        print (\"Cost after iteration %epoch: %f\" %(epoch, cost))\n",
    "        costs.append(cost)"
   ]
  },
  {
   "cell_type": "code",
   "execution_count": 7,
   "metadata": {},
   "outputs": [
    {
     "data": {
      "image/png": "[encoded data removed]",
      "text/plain": [
       "<Figure size 504x216 with 1 Axes>"
      ]
     },
     "metadata": {
      "needs_background": "light"
     },
     "output_type": "display_data"
    }
   ],
   "source": [
    "# plot the loss evolution\n",
    "costs_ss = pd.Series(costs[1:])\n",
    "\n",
    "plt.figure(figsize=(7, 3))\n",
    "plt.plot(costs_ss)\n",
    "plt.ylabel('cost')\n",
    "plt.xlabel('iterations (per hundreds)')\n",
    "plt.title('Loss per epoch')\n",
    "plt.show()"
   ]
  },
  {
   "cell_type": "code",
   "execution_count": null,
   "metadata": {},
   "outputs": [],
   "source": []
  }
 ],
 "metadata": {
  "kernelspec": {
   "display_name": "mynet",
   "language": "python",
   "name": "mynet"
  },
  "language_info": {
   "codemirror_mode": {
    "name": "ipython",
    "version": 3
   },
   "file_extension": ".py",
   "mimetype": "text/x-python",
   "name": "python",
   "nbconvert_exporter": "python",
   "pygments_lexer": "ipython3",
   "version": "3.8.5"
  }
 },
 "nbformat": 4,
 "nbformat_minor": 4
}
